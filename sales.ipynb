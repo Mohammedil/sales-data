{
 "cells": [
  {
   "cell_type": "code",
   "execution_count": 88,
   "metadata": {},
   "outputs": [],
   "source": [
    "import numpy as np\n",
    "import pandas as pd\n",
    "import seaborn as sns\n",
    "import matplotlib.pyplot as plt\n",
    "%matplotlib inline\n",
    "\n",
    "import plotly.express as px\n",
    "import plotly.graph_objects as pg\n",
    "\n",
    "import warnings\n",
    "warnings.filterwarnings('ignore')\n",
    "pd.set_option('display.max_columns', None)\n"
   ]
  },
  {
   "attachments": {},
   "cell_type": "markdown",
   "metadata": {},
   "source": [
    "# content:\n",
    "\n",
    "## 0- Acquiring Data\n",
    "## 1- Clean Data\n",
    "- take a look on the missing values\n",
    "- handeling missing values\n",
    "- \n",
    "- changing columns names\n",
    "## 2- Exploratory Analysis\n",
    "## 3- Diagnostics Analysis\n",
    "## 4- Predict"
   ]
  },
  {
   "attachments": {},
   "cell_type": "markdown",
   "metadata": {},
   "source": [
    "## ***Acquiring Data***"
   ]
  },
  {
   "attachments": {},
   "cell_type": "markdown",
   "metadata": {},
   "source": [
    "#### This data was collected from [Kagel](https://www.kaggle.com/datasets/kyanyoga/sample-sales-data?resource=download) website "
   ]
  },
  {
   "cell_type": "code",
   "execution_count": 89,
   "metadata": {},
   "outputs": [
    {
     "name": "stdout",
     "output_type": "stream",
     "text": [
      "the shape of the data is:  (2823, 25) \n",
      "\n"
     ]
    },
    {
     "data": {
      "text/html": [
       "<div>\n",
       "<style scoped>\n",
       "    .dataframe tbody tr th:only-of-type {\n",
       "        vertical-align: middle;\n",
       "    }\n",
       "\n",
       "    .dataframe tbody tr th {\n",
       "        vertical-align: top;\n",
       "    }\n",
       "\n",
       "    .dataframe thead th {\n",
       "        text-align: right;\n",
       "    }\n",
       "</style>\n",
       "<table border=\"1\" class=\"dataframe\">\n",
       "  <thead>\n",
       "    <tr style=\"text-align: right;\">\n",
       "      <th></th>\n",
       "      <th>ordernumber</th>\n",
       "      <th>quantityordered</th>\n",
       "      <th>priceeach</th>\n",
       "      <th>orderlinenumber</th>\n",
       "      <th>sales</th>\n",
       "      <th>orderdate</th>\n",
       "      <th>status</th>\n",
       "      <th>qtr_id</th>\n",
       "      <th>month_id</th>\n",
       "      <th>year_id</th>\n",
       "      <th>productline</th>\n",
       "      <th>msrp</th>\n",
       "      <th>productcode</th>\n",
       "      <th>customername</th>\n",
       "      <th>phone</th>\n",
       "      <th>addressline1</th>\n",
       "      <th>addressline2</th>\n",
       "      <th>city</th>\n",
       "      <th>state</th>\n",
       "      <th>postalcode</th>\n",
       "      <th>country</th>\n",
       "      <th>territory</th>\n",
       "      <th>contactlastname</th>\n",
       "      <th>contactfirstname</th>\n",
       "      <th>dealsize</th>\n",
       "    </tr>\n",
       "  </thead>\n",
       "  <tbody>\n",
       "    <tr>\n",
       "      <th>0</th>\n",
       "      <td>10107</td>\n",
       "      <td>30</td>\n",
       "      <td>95.70</td>\n",
       "      <td>2</td>\n",
       "      <td>2871.00</td>\n",
       "      <td>2/24/2003 0:00</td>\n",
       "      <td>Shipped</td>\n",
       "      <td>1</td>\n",
       "      <td>2</td>\n",
       "      <td>2003</td>\n",
       "      <td>Motorcycles</td>\n",
       "      <td>95</td>\n",
       "      <td>S10_1678</td>\n",
       "      <td>Land of Toys Inc.</td>\n",
       "      <td>2125557818</td>\n",
       "      <td>897 Long Airport Avenue</td>\n",
       "      <td>NaN</td>\n",
       "      <td>NYC</td>\n",
       "      <td>NY</td>\n",
       "      <td>10022</td>\n",
       "      <td>USA</td>\n",
       "      <td>NaN</td>\n",
       "      <td>Yu</td>\n",
       "      <td>Kwai</td>\n",
       "      <td>Small</td>\n",
       "    </tr>\n",
       "    <tr>\n",
       "      <th>1</th>\n",
       "      <td>10121</td>\n",
       "      <td>34</td>\n",
       "      <td>81.35</td>\n",
       "      <td>5</td>\n",
       "      <td>2765.90</td>\n",
       "      <td>5/7/2003 0:00</td>\n",
       "      <td>Shipped</td>\n",
       "      <td>2</td>\n",
       "      <td>5</td>\n",
       "      <td>2003</td>\n",
       "      <td>Motorcycles</td>\n",
       "      <td>95</td>\n",
       "      <td>S10_1678</td>\n",
       "      <td>Reims Collectables</td>\n",
       "      <td>26.47.1555</td>\n",
       "      <td>59 rue de l'Abbaye</td>\n",
       "      <td>NaN</td>\n",
       "      <td>Reims</td>\n",
       "      <td>NaN</td>\n",
       "      <td>51100</td>\n",
       "      <td>France</td>\n",
       "      <td>EMEA</td>\n",
       "      <td>Henriot</td>\n",
       "      <td>Paul</td>\n",
       "      <td>Small</td>\n",
       "    </tr>\n",
       "    <tr>\n",
       "      <th>2</th>\n",
       "      <td>10134</td>\n",
       "      <td>41</td>\n",
       "      <td>94.74</td>\n",
       "      <td>2</td>\n",
       "      <td>3884.34</td>\n",
       "      <td>7/1/2003 0:00</td>\n",
       "      <td>Shipped</td>\n",
       "      <td>3</td>\n",
       "      <td>7</td>\n",
       "      <td>2003</td>\n",
       "      <td>Motorcycles</td>\n",
       "      <td>95</td>\n",
       "      <td>S10_1678</td>\n",
       "      <td>Lyon Souveniers</td>\n",
       "      <td>+33 1 46 62 7555</td>\n",
       "      <td>27 rue du Colonel Pierre Avia</td>\n",
       "      <td>NaN</td>\n",
       "      <td>Paris</td>\n",
       "      <td>NaN</td>\n",
       "      <td>75508</td>\n",
       "      <td>France</td>\n",
       "      <td>EMEA</td>\n",
       "      <td>Da Cunha</td>\n",
       "      <td>Daniel</td>\n",
       "      <td>Medium</td>\n",
       "    </tr>\n",
       "    <tr>\n",
       "      <th>3</th>\n",
       "      <td>10145</td>\n",
       "      <td>45</td>\n",
       "      <td>83.26</td>\n",
       "      <td>6</td>\n",
       "      <td>3746.70</td>\n",
       "      <td>8/25/2003 0:00</td>\n",
       "      <td>Shipped</td>\n",
       "      <td>3</td>\n",
       "      <td>8</td>\n",
       "      <td>2003</td>\n",
       "      <td>Motorcycles</td>\n",
       "      <td>95</td>\n",
       "      <td>S10_1678</td>\n",
       "      <td>Toys4GrownUps.com</td>\n",
       "      <td>6265557265</td>\n",
       "      <td>78934 Hillside Dr.</td>\n",
       "      <td>NaN</td>\n",
       "      <td>Pasadena</td>\n",
       "      <td>CA</td>\n",
       "      <td>90003</td>\n",
       "      <td>USA</td>\n",
       "      <td>NaN</td>\n",
       "      <td>Young</td>\n",
       "      <td>Julie</td>\n",
       "      <td>Medium</td>\n",
       "    </tr>\n",
       "    <tr>\n",
       "      <th>4</th>\n",
       "      <td>10159</td>\n",
       "      <td>49</td>\n",
       "      <td>100.00</td>\n",
       "      <td>14</td>\n",
       "      <td>5205.27</td>\n",
       "      <td>10/10/2003 0:00</td>\n",
       "      <td>Shipped</td>\n",
       "      <td>4</td>\n",
       "      <td>10</td>\n",
       "      <td>2003</td>\n",
       "      <td>Motorcycles</td>\n",
       "      <td>95</td>\n",
       "      <td>S10_1678</td>\n",
       "      <td>Corporate Gift Ideas Co.</td>\n",
       "      <td>6505551386</td>\n",
       "      <td>7734 Strong St.</td>\n",
       "      <td>NaN</td>\n",
       "      <td>San Francisco</td>\n",
       "      <td>CA</td>\n",
       "      <td>NaN</td>\n",
       "      <td>USA</td>\n",
       "      <td>NaN</td>\n",
       "      <td>Brown</td>\n",
       "      <td>Julie</td>\n",
       "      <td>Medium</td>\n",
       "    </tr>\n",
       "  </tbody>\n",
       "</table>\n",
       "</div>"
      ],
      "text/plain": [
       "   ordernumber  quantityordered  priceeach  orderlinenumber    sales  \\\n",
       "0        10107               30      95.70                2  2871.00   \n",
       "1        10121               34      81.35                5  2765.90   \n",
       "2        10134               41      94.74                2  3884.34   \n",
       "3        10145               45      83.26                6  3746.70   \n",
       "4        10159               49     100.00               14  5205.27   \n",
       "\n",
       "         orderdate   status  qtr_id  month_id  year_id  productline  msrp  \\\n",
       "0   2/24/2003 0:00  Shipped       1         2     2003  Motorcycles    95   \n",
       "1    5/7/2003 0:00  Shipped       2         5     2003  Motorcycles    95   \n",
       "2    7/1/2003 0:00  Shipped       3         7     2003  Motorcycles    95   \n",
       "3   8/25/2003 0:00  Shipped       3         8     2003  Motorcycles    95   \n",
       "4  10/10/2003 0:00  Shipped       4        10     2003  Motorcycles    95   \n",
       "\n",
       "  productcode              customername             phone  \\\n",
       "0    S10_1678         Land of Toys Inc.        2125557818   \n",
       "1    S10_1678        Reims Collectables        26.47.1555   \n",
       "2    S10_1678           Lyon Souveniers  +33 1 46 62 7555   \n",
       "3    S10_1678         Toys4GrownUps.com        6265557265   \n",
       "4    S10_1678  Corporate Gift Ideas Co.        6505551386   \n",
       "\n",
       "                    addressline1 addressline2           city state postalcode  \\\n",
       "0        897 Long Airport Avenue          NaN            NYC    NY      10022   \n",
       "1             59 rue de l'Abbaye          NaN          Reims   NaN      51100   \n",
       "2  27 rue du Colonel Pierre Avia          NaN          Paris   NaN      75508   \n",
       "3             78934 Hillside Dr.          NaN       Pasadena    CA      90003   \n",
       "4                7734 Strong St.          NaN  San Francisco    CA        NaN   \n",
       "\n",
       "  country territory contactlastname contactfirstname dealsize  \n",
       "0     USA       NaN              Yu             Kwai    Small  \n",
       "1  France      EMEA         Henriot             Paul    Small  \n",
       "2  France      EMEA        Da Cunha           Daniel   Medium  \n",
       "3     USA       NaN           Young            Julie   Medium  \n",
       "4     USA       NaN           Brown            Julie   Medium  "
      ]
     },
     "execution_count": 89,
     "metadata": {},
     "output_type": "execute_result"
    }
   ],
   "source": [
    "df = pd.read_csv('sales_data_sample.csv', sep=\",\", encoding='Latin-1')\n",
    "df.columns = df.columns.str.lower()\n",
    "print('the shape of the data is: ',df.shape,'\\n')\n",
    "df.head()"
   ]
  },
  {
   "attachments": {},
   "cell_type": "markdown",
   "metadata": {},
   "source": [
    "## ***Cleaning Data***"
   ]
  },
  {
   "cell_type": "code",
   "execution_count": 90,
   "metadata": {},
   "outputs": [
    {
     "name": "stdout",
     "output_type": "stream",
     "text": [
      "<class 'pandas.core.frame.DataFrame'>\n",
      "RangeIndex: 2823 entries, 0 to 2822\n",
      "Data columns (total 25 columns):\n",
      " #   Column            Non-Null Count  Dtype  \n",
      "---  ------            --------------  -----  \n",
      " 0   ordernumber       2823 non-null   int64  \n",
      " 1   quantityordered   2823 non-null   int64  \n",
      " 2   priceeach         2823 non-null   float64\n",
      " 3   orderlinenumber   2823 non-null   int64  \n",
      " 4   sales             2823 non-null   float64\n",
      " 5   orderdate         2823 non-null   object \n",
      " 6   status            2823 non-null   object \n",
      " 7   qtr_id            2823 non-null   int64  \n",
      " 8   month_id          2823 non-null   int64  \n",
      " 9   year_id           2823 non-null   int64  \n",
      " 10  productline       2823 non-null   object \n",
      " 11  msrp              2823 non-null   int64  \n",
      " 12  productcode       2823 non-null   object \n",
      " 13  customername      2823 non-null   object \n",
      " 14  phone             2823 non-null   object \n",
      " 15  addressline1      2823 non-null   object \n",
      " 16  addressline2      302 non-null    object \n",
      " 17  city              2823 non-null   object \n",
      " 18  state             1337 non-null   object \n",
      " 19  postalcode        2747 non-null   object \n",
      " 20  country           2823 non-null   object \n",
      " 21  territory         1749 non-null   object \n",
      " 22  contactlastname   2823 non-null   object \n",
      " 23  contactfirstname  2823 non-null   object \n",
      " 24  dealsize          2823 non-null   object \n",
      "dtypes: float64(2), int64(7), object(16)\n",
      "memory usage: 551.5+ KB\n"
     ]
    }
   ],
   "source": [
    "df.info()"
   ]
  },
  {
   "cell_type": "code",
   "execution_count": 91,
   "metadata": {},
   "outputs": [
    {
     "name": "stdout",
     "output_type": "stream",
     "text": [
      "The Number of NaN in each col: \n",
      "\n",
      " addressline2    2521\n",
      "state           1486\n",
      "postalcode        76\n",
      "territory       1074\n",
      "dtype: int64\n",
      "\n",
      "The percentage of NaN in each col: \n",
      "\n",
      " addressline2    89.302161\n",
      "state           52.639036\n",
      "postalcode       2.692171\n",
      "territory       38.044633\n",
      "dtype: float64\n"
     ]
    }
   ],
   "source": [
    "na = df.isna().sum()\n",
    "print('The Number of NaN in each col: \\n\\n', na[na != 0])\n",
    "print()\n",
    "na = df.isna().sum() / df.shape[0] * 100\n",
    "print('The percentage of NaN in each col: \\n\\n', na[na != 0])"
   ]
  },
  {
   "cell_type": "code",
   "execution_count": 92,
   "metadata": {},
   "outputs": [
    {
     "data": {
      "text/plain": [
       "<AxesSubplot:>"
      ]
     },
     "execution_count": 92,
     "metadata": {},
     "output_type": "execute_result"
    },
    {
     "data": {
      "image/png": "[encoded data removed]",
      "text/plain": [
       "<Figure size 640x480 with 2 Axes>"
      ]
     },
     "metadata": {},
     "output_type": "display_data"
    }
   ],
   "source": [
    "sns.heatmap(df.isna())"
   ]
  },
  {
   "cell_type": "code",
   "execution_count": 93,
   "metadata": {},
   "outputs": [
    {
     "data": {
      "text/plain": [
       "array([nan, 'EMEA', 'APAC', 'Japan'], dtype=object)"
      ]
     },
     "execution_count": 93,
     "metadata": {},
     "output_type": "execute_result"
    }
   ],
   "source": [
    "df.territory.unique()"
   ]
  },
  {
   "attachments": {},
   "cell_type": "markdown",
   "metadata": {},
   "source": [
    "- APAC: Asia-Pacific - and japan\n",
    "- EMEA: Europe, the Middle East and Africa.\n",
    "- US-CA: United States and Canada"
   ]
  },
  {
   "cell_type": "code",
   "execution_count": 97,
   "metadata": {},
   "outputs": [],
   "source": [
    "df.postalcode = df.postalcode.fillna('missing')\n",
    "df.territory = df.territory.fillna('US-CA')\n",
    "df.state = df.state.fillna('without')\n",
    "df.addressline2 = df.addressline2.fillna('without')"
   ]
  },
  {
   "cell_type": "code",
   "execution_count": 98,
   "metadata": {},
   "outputs": [],
   "source": [
    "# chanching the japan territory to APAC\n",
    "\n",
    "ali = {'EMEA':'EMEA',\n",
    "       'US-CA':'US-CA',\n",
    "       'APAC':'APAC',\n",
    "       'Japan':'APAC'}\n",
    "df.territory = df.territory.map(ali)"
   ]
  },
  {
   "cell_type": "code",
   "execution_count": 99,
   "metadata": {},
   "outputs": [
    {
     "data": {
      "text/plain": [
       "EMEA     1407\n",
       "US-CA    1074\n",
       "APAC      342\n",
       "Name: territory, dtype: int64"
      ]
     },
     "execution_count": 99,
     "metadata": {},
     "output_type": "execute_result"
    }
   ],
   "source": [
    "df.territory.value_counts()"
   ]
  },
  {
   "cell_type": "code",
   "execution_count": null,
   "metadata": {},
   "outputs": [],
   "source": [
    "df.columns"
   ]
  },
  {
   "cell_type": "code",
   "execution_count": 105,
   "metadata": {},
   "outputs": [],
   "source": [
    "df.columns = ['order number', 'quantity ordered', 'price each', 'order line number',\n",
    "       'sales', 'order date', 'status', 'qtr_id', 'month_id', 'year_id',\n",
    "       'product line', 'msrp', 'product code', 'customer name', 'phone',\n",
    "       'address line1', 'address line2', 'city', 'state', 'postal code',\n",
    "       'country', 'territory', 'contact last name', 'contact first name',\n",
    "       'deal size']"
   ]
  },
  {
   "cell_type": "code",
   "execution_count": 110,
   "metadata": {},
   "outputs": [
    {
     "data": {
      "text/html": [
       "<div>\n",
       "<style scoped>\n",
       "    .dataframe tbody tr th:only-of-type {\n",
       "        vertical-align: middle;\n",
       "    }\n",
       "\n",
       "    .dataframe tbody tr th {\n",
       "        vertical-align: top;\n",
       "    }\n",
       "\n",
       "    .dataframe thead th {\n",
       "        text-align: right;\n",
       "    }\n",
       "</style>\n",
       "<table border=\"1\" class=\"dataframe\">\n",
       "  <thead>\n",
       "    <tr style=\"text-align: right;\">\n",
       "      <th></th>\n",
       "      <th>order number</th>\n",
       "      <th>quantity ordered</th>\n",
       "      <th>price each</th>\n",
       "      <th>order line number</th>\n",
       "      <th>sales</th>\n",
       "      <th>order date</th>\n",
       "      <th>status</th>\n",
       "      <th>qtr_id</th>\n",
       "      <th>month_id</th>\n",
       "      <th>year_id</th>\n",
       "      <th>product line</th>\n",
       "      <th>msrp</th>\n",
       "      <th>product code</th>\n",
       "      <th>customer name</th>\n",
       "      <th>phone</th>\n",
       "      <th>address line1</th>\n",
       "      <th>address line2</th>\n",
       "      <th>city</th>\n",
       "      <th>state</th>\n",
       "      <th>postal code</th>\n",
       "      <th>country</th>\n",
       "      <th>territory</th>\n",
       "      <th>contact last name</th>\n",
       "      <th>contact first name</th>\n",
       "      <th>deal size</th>\n",
       "    </tr>\n",
       "  </thead>\n",
       "  <tbody>\n",
       "    <tr>\n",
       "      <th>0</th>\n",
       "      <td>10107</td>\n",
       "      <td>30</td>\n",
       "      <td>95.7</td>\n",
       "      <td>2</td>\n",
       "      <td>2871.0</td>\n",
       "      <td>2/24/2003 0:00</td>\n",
       "      <td>Shipped</td>\n",
       "      <td>1</td>\n",
       "      <td>2</td>\n",
       "      <td>2003</td>\n",
       "      <td>Motorcycles</td>\n",
       "      <td>95</td>\n",
       "      <td>S10_1678</td>\n",
       "      <td>Land of Toys Inc.</td>\n",
       "      <td>2125557818</td>\n",
       "      <td>897 Long Airport Avenue</td>\n",
       "      <td>without</td>\n",
       "      <td>NYC</td>\n",
       "      <td>NY</td>\n",
       "      <td>10022</td>\n",
       "      <td>USA</td>\n",
       "      <td>US-CA</td>\n",
       "      <td>Yu</td>\n",
       "      <td>Kwai</td>\n",
       "      <td>Small</td>\n",
       "    </tr>\n",
       "  </tbody>\n",
       "</table>\n",
       "</div>"
      ],
      "text/plain": [
       "   order number  quantity ordered  price each  order line number   sales  \\\n",
       "0         10107                30        95.7                  2  2871.0   \n",
       "\n",
       "       order date   status  qtr_id  month_id  year_id product line  msrp  \\\n",
       "0  2/24/2003 0:00  Shipped       1         2     2003  Motorcycles    95   \n",
       "\n",
       "  product code      customer name       phone            address line1  \\\n",
       "0     S10_1678  Land of Toys Inc.  2125557818  897 Long Airport Avenue   \n",
       "\n",
       "  address line2 city state postal code country territory contact last name  \\\n",
       "0       without  NYC    NY       10022     USA     US-CA                Yu   \n",
       "\n",
       "  contact first name deal size  \n",
       "0               Kwai     Small  "
      ]
     },
     "execution_count": 110,
     "metadata": {},
     "output_type": "execute_result"
    }
   ],
   "source": [
    "df.head(1)"
   ]
  },
  {
   "attachments": {},
   "cell_type": "markdown",
   "metadata": {},
   "source": [
    "## ***Exploratory Analysis***"
   ]
  },
  {
   "cell_type": "code",
   "execution_count": 111,
   "metadata": {},
   "outputs": [
    {
     "name": "stdout",
     "output_type": "stream",
     "text": [
      "<class 'pandas.core.frame.DataFrame'>\n",
      "RangeIndex: 2823 entries, 0 to 2822\n",
      "Data columns (total 25 columns):\n",
      " #   Column              Non-Null Count  Dtype  \n",
      "---  ------              --------------  -----  \n",
      " 0   order number        2823 non-null   int64  \n",
      " 1   quantity ordered    2823 non-null   int64  \n",
      " 2   price each          2823 non-null   float64\n",
      " 3   order line number   2823 non-null   int64  \n",
      " 4   sales               2823 non-null   float64\n",
      " 5   order date          2823 non-null   object \n",
      " 6   status              2823 non-null   object \n",
      " 7   qtr_id              2823 non-null   int64  \n",
      " 8   month_id            2823 non-null   int64  \n",
      " 9   year_id             2823 non-null   int64  \n",
      " 10  product line        2823 non-null   object \n",
      " 11  msrp                2823 non-null   int64  \n",
      " 12  product code        2823 non-null   object \n",
      " 13  customer name       2823 non-null   object \n",
      " 14  phone               2823 non-null   object \n",
      " 15  address line1       2823 non-null   object \n",
      " 16  address line2       2823 non-null   object \n",
      " 17  city                2823 non-null   object \n",
      " 18  state               2823 non-null   object \n",
      " 19  postal code         2823 non-null   object \n",
      " 20  country             2823 non-null   object \n",
      " 21  territory           2823 non-null   object \n",
      " 22  contact last name   2823 non-null   object \n",
      " 23  contact first name  2823 non-null   object \n",
      " 24  deal size           2823 non-null   object \n",
      "dtypes: float64(2), int64(7), object(16)\n",
      "memory usage: 551.5+ KB\n"
     ]
    }
   ],
   "source": [
    "df.info()"
   ]
  },
  {
   "cell_type": "code",
   "execution_count": 115,
   "metadata": {},
   "outputs": [
    {
     "data": {
      "text/html": [
       "<style type=\"text/css\">\n",
       "#T_5cb05_row0_col0, #T_5cb05_row1_col0, #T_5cb05_row1_col1, #T_5cb05_row1_col3, #T_5cb05_row1_col4, #T_5cb05_row1_col5, #T_5cb05_row1_col6, #T_5cb05_row2_col0, #T_5cb05_row2_col3, #T_5cb05_row3_col0, #T_5cb05_row3_col1, #T_5cb05_row3_col2, #T_5cb05_row3_col3, #T_5cb05_row3_col4, #T_5cb05_row3_col5, #T_5cb05_row3_col6, #T_5cb05_row3_col7, #T_5cb05_row4_col0, #T_5cb05_row5_col0, #T_5cb05_row5_col1, #T_5cb05_row5_col2, #T_5cb05_row5_col3, #T_5cb05_row5_col4, #T_5cb05_row5_col5, #T_5cb05_row5_col6, #T_5cb05_row5_col7, #T_5cb05_row6_col0, #T_5cb05_row6_col1, #T_5cb05_row6_col2, #T_5cb05_row6_col3, #T_5cb05_row6_col4, #T_5cb05_row6_col5, #T_5cb05_row6_col6, #T_5cb05_row6_col7, #T_5cb05_row7_col0, #T_5cb05_row7_col2, #T_5cb05_row8_col0, #T_5cb05_row8_col3 {\n",
       "  background-color: #fff5eb;\n",
       "  color: #000000;\n",
       "}\n",
       "#T_5cb05_row0_col1, #T_5cb05_row0_col3, #T_5cb05_row0_col4, #T_5cb05_row0_col5, #T_5cb05_row0_col6, #T_5cb05_row4_col2, #T_5cb05_row4_col7 {\n",
       "  background-color: #7f2704;\n",
       "  color: #f1f1f1;\n",
       "}\n",
       "#T_5cb05_row0_col2, #T_5cb05_row4_col3 {\n",
       "  background-color: #ffefe0;\n",
       "  color: #000000;\n",
       "}\n",
       "#T_5cb05_row0_col7 {\n",
       "  background-color: #db4a02;\n",
       "  color: #f1f1f1;\n",
       "}\n",
       "#T_5cb05_row1_col2, #T_5cb05_row1_col7, #T_5cb05_row2_col4, #T_5cb05_row2_col7, #T_5cb05_row8_col4 {\n",
       "  background-color: #fff5ea;\n",
       "  color: #000000;\n",
       "}\n",
       "#T_5cb05_row2_col1, #T_5cb05_row2_col2, #T_5cb05_row2_col5, #T_5cb05_row2_col6, #T_5cb05_row8_col1, #T_5cb05_row8_col5, #T_5cb05_row8_col6 {\n",
       "  background-color: #fff4e9;\n",
       "  color: #000000;\n",
       "}\n",
       "#T_5cb05_row4_col1 {\n",
       "  background-color: #fdb678;\n",
       "  color: #000000;\n",
       "}\n",
       "#T_5cb05_row4_col4 {\n",
       "  background-color: #fdd6ae;\n",
       "  color: #000000;\n",
       "}\n",
       "#T_5cb05_row4_col5 {\n",
       "  background-color: #fdc088;\n",
       "  color: #000000;\n",
       "}\n",
       "#T_5cb05_row4_col6 {\n",
       "  background-color: #fd9e54;\n",
       "  color: #000000;\n",
       "}\n",
       "#T_5cb05_row7_col1, #T_5cb05_row7_col5, #T_5cb05_row7_col6 {\n",
       "  background-color: #fddab6;\n",
       "  color: #000000;\n",
       "}\n",
       "#T_5cb05_row7_col3, #T_5cb05_row7_col4 {\n",
       "  background-color: #fdd9b5;\n",
       "  color: #000000;\n",
       "}\n",
       "#T_5cb05_row7_col7 {\n",
       "  background-color: #fee3c8;\n",
       "  color: #000000;\n",
       "}\n",
       "#T_5cb05_row8_col2 {\n",
       "  background-color: #fff3e6;\n",
       "  color: #000000;\n",
       "}\n",
       "#T_5cb05_row8_col7 {\n",
       "  background-color: #fff4e8;\n",
       "  color: #000000;\n",
       "}\n",
       "</style>\n",
       "<table id=\"T_5cb05\">\n",
       "  <thead>\n",
       "    <tr>\n",
       "      <th class=\"blank level0\" >&nbsp;</th>\n",
       "      <th id=\"T_5cb05_level0_col0\" class=\"col_heading level0 col0\" >count</th>\n",
       "      <th id=\"T_5cb05_level0_col1\" class=\"col_heading level0 col1\" >mean</th>\n",
       "      <th id=\"T_5cb05_level0_col2\" class=\"col_heading level0 col2\" >std</th>\n",
       "      <th id=\"T_5cb05_level0_col3\" class=\"col_heading level0 col3\" >min</th>\n",
       "      <th id=\"T_5cb05_level0_col4\" class=\"col_heading level0 col4\" >25%</th>\n",
       "      <th id=\"T_5cb05_level0_col5\" class=\"col_heading level0 col5\" >50%</th>\n",
       "      <th id=\"T_5cb05_level0_col6\" class=\"col_heading level0 col6\" >75%</th>\n",
       "      <th id=\"T_5cb05_level0_col7\" class=\"col_heading level0 col7\" >max</th>\n",
       "    </tr>\n",
       "  </thead>\n",
       "  <tbody>\n",
       "    <tr>\n",
       "      <th id=\"T_5cb05_level0_row0\" class=\"row_heading level0 row0\" >order number</th>\n",
       "      <td id=\"T_5cb05_row0_col0\" class=\"data row0 col0\" >2823.000000</td>\n",
       "      <td id=\"T_5cb05_row0_col1\" class=\"data row0 col1\" >10258.725115</td>\n",
       "      <td id=\"T_5cb05_row0_col2\" class=\"data row0 col2\" >92.085478</td>\n",
       "      <td id=\"T_5cb05_row0_col3\" class=\"data row0 col3\" >10100.000000</td>\n",
       "      <td id=\"T_5cb05_row0_col4\" class=\"data row0 col4\" >10180.000000</td>\n",
       "      <td id=\"T_5cb05_row0_col5\" class=\"data row0 col5\" >10262.000000</td>\n",
       "      <td id=\"T_5cb05_row0_col6\" class=\"data row0 col6\" >10333.500000</td>\n",
       "      <td id=\"T_5cb05_row0_col7\" class=\"data row0 col7\" >10425.000000</td>\n",
       "    </tr>\n",
       "    <tr>\n",
       "      <th id=\"T_5cb05_level0_row1\" class=\"row_heading level0 row1\" >quantity ordered</th>\n",
       "      <td id=\"T_5cb05_row1_col0\" class=\"data row1 col0\" >2823.000000</td>\n",
       "      <td id=\"T_5cb05_row1_col1\" class=\"data row1 col1\" >35.092809</td>\n",
       "      <td id=\"T_5cb05_row1_col2\" class=\"data row1 col2\" >9.741443</td>\n",
       "      <td id=\"T_5cb05_row1_col3\" class=\"data row1 col3\" >6.000000</td>\n",
       "      <td id=\"T_5cb05_row1_col4\" class=\"data row1 col4\" >27.000000</td>\n",
       "      <td id=\"T_5cb05_row1_col5\" class=\"data row1 col5\" >35.000000</td>\n",
       "      <td id=\"T_5cb05_row1_col6\" class=\"data row1 col6\" >43.000000</td>\n",
       "      <td id=\"T_5cb05_row1_col7\" class=\"data row1 col7\" >97.000000</td>\n",
       "    </tr>\n",
       "    <tr>\n",
       "      <th id=\"T_5cb05_level0_row2\" class=\"row_heading level0 row2\" >price each</th>\n",
       "      <td id=\"T_5cb05_row2_col0\" class=\"data row2 col0\" >2823.000000</td>\n",
       "      <td id=\"T_5cb05_row2_col1\" class=\"data row2 col1\" >83.658544</td>\n",
       "      <td id=\"T_5cb05_row2_col2\" class=\"data row2 col2\" >20.174277</td>\n",
       "      <td id=\"T_5cb05_row2_col3\" class=\"data row2 col3\" >26.880000</td>\n",
       "      <td id=\"T_5cb05_row2_col4\" class=\"data row2 col4\" >68.860000</td>\n",
       "      <td id=\"T_5cb05_row2_col5\" class=\"data row2 col5\" >95.700000</td>\n",
       "      <td id=\"T_5cb05_row2_col6\" class=\"data row2 col6\" >100.000000</td>\n",
       "      <td id=\"T_5cb05_row2_col7\" class=\"data row2 col7\" >100.000000</td>\n",
       "    </tr>\n",
       "    <tr>\n",
       "      <th id=\"T_5cb05_level0_row3\" class=\"row_heading level0 row3\" >order line number</th>\n",
       "      <td id=\"T_5cb05_row3_col0\" class=\"data row3 col0\" >2823.000000</td>\n",
       "      <td id=\"T_5cb05_row3_col1\" class=\"data row3 col1\" >6.466171</td>\n",
       "      <td id=\"T_5cb05_row3_col2\" class=\"data row3 col2\" >4.225841</td>\n",
       "      <td id=\"T_5cb05_row3_col3\" class=\"data row3 col3\" >1.000000</td>\n",
       "      <td id=\"T_5cb05_row3_col4\" class=\"data row3 col4\" >3.000000</td>\n",
       "      <td id=\"T_5cb05_row3_col5\" class=\"data row3 col5\" >6.000000</td>\n",
       "      <td id=\"T_5cb05_row3_col6\" class=\"data row3 col6\" >9.000000</td>\n",
       "      <td id=\"T_5cb05_row3_col7\" class=\"data row3 col7\" >18.000000</td>\n",
       "    </tr>\n",
       "    <tr>\n",
       "      <th id=\"T_5cb05_level0_row4\" class=\"row_heading level0 row4\" >sales</th>\n",
       "      <td id=\"T_5cb05_row4_col0\" class=\"data row4 col0\" >2823.000000</td>\n",
       "      <td id=\"T_5cb05_row4_col1\" class=\"data row4 col1\" >3553.889072</td>\n",
       "      <td id=\"T_5cb05_row4_col2\" class=\"data row4 col2\" >1841.865106</td>\n",
       "      <td id=\"T_5cb05_row4_col3\" class=\"data row4 col3\" >482.130000</td>\n",
       "      <td id=\"T_5cb05_row4_col4\" class=\"data row4 col4\" >2203.430000</td>\n",
       "      <td id=\"T_5cb05_row4_col5\" class=\"data row4 col5\" >3184.800000</td>\n",
       "      <td id=\"T_5cb05_row4_col6\" class=\"data row4 col6\" >4508.000000</td>\n",
       "      <td id=\"T_5cb05_row4_col7\" class=\"data row4 col7\" >14082.800000</td>\n",
       "    </tr>\n",
       "    <tr>\n",
       "      <th id=\"T_5cb05_level0_row5\" class=\"row_heading level0 row5\" >qtr_id</th>\n",
       "      <td id=\"T_5cb05_row5_col0\" class=\"data row5 col0\" >2823.000000</td>\n",
       "      <td id=\"T_5cb05_row5_col1\" class=\"data row5 col1\" >2.717676</td>\n",
       "      <td id=\"T_5cb05_row5_col2\" class=\"data row5 col2\" >1.203878</td>\n",
       "      <td id=\"T_5cb05_row5_col3\" class=\"data row5 col3\" >1.000000</td>\n",
       "      <td id=\"T_5cb05_row5_col4\" class=\"data row5 col4\" >2.000000</td>\n",
       "      <td id=\"T_5cb05_row5_col5\" class=\"data row5 col5\" >3.000000</td>\n",
       "      <td id=\"T_5cb05_row5_col6\" class=\"data row5 col6\" >4.000000</td>\n",
       "      <td id=\"T_5cb05_row5_col7\" class=\"data row5 col7\" >4.000000</td>\n",
       "    </tr>\n",
       "    <tr>\n",
       "      <th id=\"T_5cb05_level0_row6\" class=\"row_heading level0 row6\" >month_id</th>\n",
       "      <td id=\"T_5cb05_row6_col0\" class=\"data row6 col0\" >2823.000000</td>\n",
       "      <td id=\"T_5cb05_row6_col1\" class=\"data row6 col1\" >7.092455</td>\n",
       "      <td id=\"T_5cb05_row6_col2\" class=\"data row6 col2\" >3.656633</td>\n",
       "      <td id=\"T_5cb05_row6_col3\" class=\"data row6 col3\" >1.000000</td>\n",
       "      <td id=\"T_5cb05_row6_col4\" class=\"data row6 col4\" >4.000000</td>\n",
       "      <td id=\"T_5cb05_row6_col5\" class=\"data row6 col5\" >8.000000</td>\n",
       "      <td id=\"T_5cb05_row6_col6\" class=\"data row6 col6\" >11.000000</td>\n",
       "      <td id=\"T_5cb05_row6_col7\" class=\"data row6 col7\" >12.000000</td>\n",
       "    </tr>\n",
       "    <tr>\n",
       "      <th id=\"T_5cb05_level0_row7\" class=\"row_heading level0 row7\" >year_id</th>\n",
       "      <td id=\"T_5cb05_row7_col0\" class=\"data row7 col0\" >2823.000000</td>\n",
       "      <td id=\"T_5cb05_row7_col1\" class=\"data row7 col1\" >2003.815090</td>\n",
       "      <td id=\"T_5cb05_row7_col2\" class=\"data row7 col2\" >0.699670</td>\n",
       "      <td id=\"T_5cb05_row7_col3\" class=\"data row7 col3\" >2003.000000</td>\n",
       "      <td id=\"T_5cb05_row7_col4\" class=\"data row7 col4\" >2003.000000</td>\n",
       "      <td id=\"T_5cb05_row7_col5\" class=\"data row7 col5\" >2004.000000</td>\n",
       "      <td id=\"T_5cb05_row7_col6\" class=\"data row7 col6\" >2004.000000</td>\n",
       "      <td id=\"T_5cb05_row7_col7\" class=\"data row7 col7\" >2005.000000</td>\n",
       "    </tr>\n",
       "    <tr>\n",
       "      <th id=\"T_5cb05_level0_row8\" class=\"row_heading level0 row8\" >msrp</th>\n",
       "      <td id=\"T_5cb05_row8_col0\" class=\"data row8 col0\" >2823.000000</td>\n",
       "      <td id=\"T_5cb05_row8_col1\" class=\"data row8 col1\" >100.715551</td>\n",
       "      <td id=\"T_5cb05_row8_col2\" class=\"data row8 col2\" >40.187912</td>\n",
       "      <td id=\"T_5cb05_row8_col3\" class=\"data row8 col3\" >33.000000</td>\n",
       "      <td id=\"T_5cb05_row8_col4\" class=\"data row8 col4\" >68.000000</td>\n",
       "      <td id=\"T_5cb05_row8_col5\" class=\"data row8 col5\" >99.000000</td>\n",
       "      <td id=\"T_5cb05_row8_col6\" class=\"data row8 col6\" >124.000000</td>\n",
       "      <td id=\"T_5cb05_row8_col7\" class=\"data row8 col7\" >214.000000</td>\n",
       "    </tr>\n",
       "  </tbody>\n",
       "</table>\n"
      ],
      "text/plain": [
       "<pandas.io.formats.style.Styler at 0x273911055e0>"
      ]
     },
     "execution_count": 115,
     "metadata": {},
     "output_type": "execute_result"
    }
   ],
   "source": [
    "df.describe().T.style.background_gradient(cmap = \"Oranges\")"
   ]
  },
  {
   "cell_type": "code",
   "execution_count": 120,
   "metadata": {},
   "outputs": [
    {
     "name": "stdout",
     "output_type": "stream",
     "text": [
      "----------------------------------------------------------------------------------------------------\n"
     ]
    }
   ],
   "source": [
    "print('-'*100)"
   ]
  }
 ],
 "metadata": {
  "kernelspec": {
   "display_name": "base",
   "language": "python",
   "name": "python3"
  },
  "language_info": {
   "codemirror_mode": {
    "name": "ipython",
    "version": 3
   },
   "file_extension": ".py",
   "mimetype": "text/x-python",
   "name": "python",
   "nbconvert_exporter": "python",
   "pygments_lexer": "ipython3",
   "version": "3.9.15"
  },
  "orig_nbformat": 4,
  "vscode": {
   "interpreter": {
    "hash": "c104510c646bf96f18b996e66941a6bd207ecb29f3b2c132ad3b1812f0285828"
   }
  }
 },
 "nbformat": 4,
 "nbformat_minor": 2
}
